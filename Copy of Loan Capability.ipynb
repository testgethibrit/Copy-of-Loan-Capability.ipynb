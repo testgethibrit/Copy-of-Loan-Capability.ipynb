#Visualization
#Preprocessing
# The length of the data
print(f"The Length of the data: {data.shape}")
# Missing values
for column in data.columns:
    if data[column].isna().sum() != 0:
        missing = data[column].isna().sum()
        portion = (missing / data.shape[0]) * 100
        print(f"'{column}': number of missing values '{missing}' ==> '{portion:.3f}%'")
data.emp_title.nunique()
data.drop('emp_title', axis=1, inplace=True)
data.emp_length.unique()
for year in data.emp_length.unique():
    print(f"{year} years in this position:")
    print(f"{data[data.emp_length == year].loan_status.value_counts(normalize=True)}")
    print('==========================================')
data.drop('emp_length', axis=1, inplace=True)
data.title.value_counts().head()

data.purpose.value_counts().head()
data.drop('title', axis=1, inplace=True)
data.mort_acc.value_counts()
data.mort_acc.isna().sum()
plt.figure(figsize=(8, 5))
data.corr()['mort_acc'].drop('mort_acc').sort_values().plot(kind='barh')
total_acc_avg = data.groupby(by='total_acc').mean().mort_acc
def fill_mort_acc(total_acc, mort_acc):
    if np.isnan(mort_acc):
        return total_acc_avg[total_acc].round()
    else:
        return mort_acc
data['mort_acc'] = data.apply(lambda x: fill_mort_acc(x['total_acc'], x['mort_acc']), axis=1)
for column in data.columns:
    if data[column].isna().sum() != 0:
        missing = data[column].isna().sum()
        portion = (missing / data.shape[0]) * 100
        print(f"'{column}': number of missing values '{missing}' ==> '{portion:.3f}%'")
data.dropna(inplace=True)
data.shape
#Categorical Variables and Dummy Variables
print([column for column in data.columns if data[column].dtype == object])
data.term.unique()
data.sub_grade.unique()
data.home_ownership.unique()
data.verification_status.unique()
data.verification_status.unique()
data.issue_d.unique()
data.purpose.unique()
data.earliest_cr_line.unique()
data.address.unique()
data.initial_list_status.unique()
data.application_type.unique()
term_values = {' 36 months': 36, ' 60 months': 60}
data['term'] = data.term.map(term_values)
data.term.unique()
data.drop('grade', axis=1, inplace=True)
dummies = ['sub_grade', 'verification_status', 'purpose', 'initial_list_status',
           'application_type', 'home_ownership']
data = pd.get_dummies(data, columns=dummies, drop_first=True)
data.head()
data.address.head()
data['zip_code'] = data.address.apply(lambda x: x[-5:])
data.zip_code.value_counts()
data = pd.get_dummies(data, columns=['zip_code'], drop_first=True)
data.drop('address', axis=1, inplace=True)
data.head()
data.drop('issue_d', axis=1, inplace=True)
data['earliest_cr_line'] = data.earliest_cr_line.str.split('-', expand=True)[1]
data.earliest_cr_line.nunique()
print(f"Data shape: {data.shape}")

# Remove duplicate Features
data = data.T.drop_duplicates()
data = data.T

# Remove Duplicate Rows
data.drop_duplicates(inplace=True)

print(f"Data shape: {data.shape}")

w_p = data.loan_status.value_counts()[0] / data.shape[0]
w_n = data.loan_status.value_counts()[1] / data.shape[0]

print(f"Weight of positive values {w_p}")
print(f"Weight of negative values {w_n}")
from sklearn.model_selection import train_test_split, GridSearchCV
from sklearn.preprocessing import MinMaxScaler


X = data.drop('loan_status', axis=1)
y = data.loan_status

X_train, X_test, y_train, y_test = train_test_split(X, y, test_size=0.3, random_state=42, stratify=y)

print(X_train.shape)
print(X_test.shape)
print(y_train.shape)
print(y_test.shape)
X_test.head()
y
X.head()
scaler = MinMaxScaler()
X_train = scaler.fit_transform(X_train)
X_test = scaler.transform(X_test)
import pickle
pickle.dump(scaler, open('./scaler.pkl', 'wb'))
from sklearn.metrics import accuracy_score, confusion_matrix, classification_report
from sklearn.metrics import roc_auc_score, roc_curve, auc

def print_score(true, pred, train=True):
    if train:
        clf_report = pd.DataFrame(classification_report(true, pred, output_dict=True))
        print("Train Result:\n================================================")
        print(f"Accuracy Score: {accuracy_score(true, pred) * 100:.2f}%")
        print("_______________________________________________")
        print(f"CLASSIFICATION REPORT:\n{clf_report}")
        print("_______________________________________________")
        print(f"Confusion Matrix: \n {confusion_matrix(true, pred)}\n")

    elif train==False:
        clf_report = pd.DataFrame(classification_report(true, pred, output_dict=True))
        print("Test Result:\n================================================")
        print(f"Accuracy Score: {accuracy_score(true, pred) * 100:.2f}%")
        print("_______________________________________________")
        print(f"CLASSIFICATION REPORT:\n{clf_report}")
        print("_______________________________________________")
        print(f"Confusion Matrix: \n {confusion_matrix(true, pred)}\n")
X_train = np.array(X_train).astype(np.float32)
X_test = np.array(X_test).astype(np.float32)
y_train = np.array(y_train).astype(np.float32)
y_test = np.array(y_test).astype(np.float32)
import tensorflow as tf
from tensorflow.keras.models import Sequential, Model
from tensorflow.keras.layers import Dense, Dropout, BatchNormalization
from tensorflow.keras.optimizers import Adam
from tensorflow.keras.metrics import AUC
X.head()
pd.set_option("display.max_columns", None)
X.shape
X_train.shape
X.columns
X.shape
X_test
def evaluate_nn(true, pred, train=True):
    if train:
        clf_report = pd.DataFrame(classification_report(true, pred, output_dict=True))
        print("Train Result:\n================================================")
        print(f"Accuracy Score: {accuracy_score(true, pred) * 100:.2f}%")
        print("_______________________________________________")
        print(f"CLASSIFICATION REPORT:\n{clf_report}")
        print("_______________________________________________")
        print(f"Confusion Matrix: \n {confusion_matrix(true, pred)}\n")

    elif train==False:
        clf_report = pd.DataFrame(classification_report(true, pred, output_dict=True))
        print("Test Result:\n================================================")
        print(f"Accuracy Score: {accuracy_score(true, pred) * 100:.2f}%")
        print("_______________________________________________")
        print(f"CLASSIFICATION REPORT:\n{clf_report}")
        print("_______________________________________________")
        print(f"Confusion Matrix: \n {confusion_matrix(true, pred)}\n")

def plot_learning_evolution(r):
    plt.figure(figsize=(12, 8))

    plt.subplot(2, 2, 1)
    plt.plot(r.history['loss'], label='Loss')
    plt.plot(r.history['val_loss'], label='val_Loss')
    plt.title('Loss evolution during trainig')
    plt.legend()

    plt.subplot(2, 2, 2)
    plt.plot(r.history['AUC'], label='AUC')
    plt.plot(r.history['val_AUC'], label='val_AUC')
    plt.title('AUC score evolution during trainig')
    plt.legend();

def nn_model(num_columns, num_labels, hidden_units, dropout_rates, learning_rate):
    print(num_columns)
    inp = tf.keras.layers.Input(shape=(num_columns, ))
    x = BatchNormalization()(inp)
    x = Dropout(dropout_rates[0])(x)
    for i in range(len(hidden_units)):
        x = Dense(hidden_units[i], activation='relu')(x)
        x = BatchNormalization()(x)
        x = Dropout(dropout_rates[i + 1])(x)
    x = Dense(num_labels, activation='sigmoid')(x)

    model = Model(inputs=inp, outputs=x)
    model.compile(optimizer=Adam(learning_rate), loss='binary_crossentropy', metrics=[AUC(name='AUC')])
    return model

num_columns = X_train.shape[1]
num_labels = 1
hidden_units = [150, 150, 150]
dropout_rates = [0.1, 0, 0.1, 0]
learning_rate = 1e-3


model = nn_model(
    num_columns=num_columns,
    num_labels=num_labels,
    hidden_units=hidden_units,
    dropout_rates=dropout_rates,
    learning_rate=learning_rate
)
r = model.fit(
    X_train, y_train,
    validation_data=(X_test, y_test),
    epochs=1,
    batch_size=32
)

# model.save(DATA_DIR + "/model")

X_train.shape[1]
plot_learning_evolution(r)

y_train_pred = model.predict(X_train)
evaluate_nn(y_train, y_train_pred.round(), train=True)
y_test_pred = model.predict(X_test)
evaluate_nn(y_test, y_test_pred.round(), train=False)
scores_dict = {
    'ANNs': {
        'Train': roc_auc_score(y_train, model.predict(X_train)),
        'Test': roc_auc_score(y_test, model.predict(X_test)),
    },
}
#XG Boost Classifier
from xgboost import XGBClassifier

n_estimators = [50, 100, 200]
learning_rate = [0.05, 0.01, 0.5, 0.1, 1]
tree_method = ['gpu_hist']

params_grid = {
    'n_estimators': n_estimators,
#     'learning_rate': learning_rate,
}

xgb_clf = XGBClassifier()
xgb_cv = GridSearchCV(xgb_clf, params_grid, cv=3, scoring='roc_auc', n_jobs=-1, verbose=1)
# xgb_cv.fit(X_train, y_train)
# best_params = xgb_cv.best_params_
# best_params['tree_method'] = 'gpu_hist'
best_params = {'n_estimators': 50, 'tree_method': 'gpu_hist'}
print(f"Best Parameters: {best_params}")

xgb_clf = XGBClassifier(**best_params)
xgb_clf.fit(X_train, y_train)

y_train_pred = xgb_clf.predict(X_train)
y_test_pred = xgb_clf.predict(X_test)

print_score(y_train, y_train_pred, train=True)
print_score(y_test, y_test_pred, train=False)

from sklearn.metrics import plot_confusion_matrix, plot_roc_curve

disp = plot_confusion_matrix(xgb_clf, X_test, y_test,
                             cmap='Blues', values_format='d',
                             display_labels=['Fully-Paid', 'Default'])

disp = plot_roc_curve(xgb_clf, X_test, y_test)

scores_dict['XGBoost'] = {
        'Train': roc_auc_score(y_train, xgb_clf.predict(X_train)),
        'Test': roc_auc_score(y_test, xgb_clf.predict(X_test)),
    }
from sklearn.ensemble import RandomForestClassifier

rf_clf = RandomForestClassifier(n_estimators=100)
rf_clf.fit(X_train, y_train)

y_train_pred = rf_clf.predict(X_train)
y_test_pred = rf_clf.predict(X_test)

print_score(y_train, y_train_pred, train=True)
print_score(y_test, y_test_pred, train=False)
disp = plot_confusion_matrix(rf_clf, X_test, y_test,
                             cmap='Blues', values_format='d',
                             display_labels=['Fully-Paid', 'Default'])

disp = plot_roc_curve(xgb_clf, X_test, y_test)
plot_roc_curve(rf_clf, X_test, y_test, ax=disp.ax_)

scores_dict['Random Forest'] = {
        'Train': roc_auc_score(y_train, rf_clf.predict(X_train)),
        'Test': roc_auc_score(y_test, rf_clf.predict(X_test)),
    }
# Comparing Models Prerformance

ml_models = {
    'Random Forest': rf_clf,
    'XGBoost': xgb_clf,
    'ANNs': model
}

for model in ml_models:
    print(f"{model.upper():{30}} roc_auc_score: {roc_auc_score(y_test, ml_models[model].predict(X_test)):.3f}")
scores_df = pd.DataFrame(scores_dict)
scores_df.plot(kind='barh', figsize=(15, 8))
from tensorflow import keras
DATA_DIR = '/content/drive/MyDrive/Loan Capability'
model = keras.models.load_model(DATA_DIR + "/model")
loan_amnt = 20000
term = "36 months"
int_rate = 13.53
installment = 679
annual_inc = 80000
dti = 12.74
earliest_cr_line = "01-08-1997"
open_acc = 6
pub_rec = 1
revol_bal = 13283
revol_util = 95.6
total_acc = 23
mort_acc = 1
pub_rec_bankruptcies = 0
sub_grade = "B5"
verification_status = "Source Verified"
purpose = "credit_card"
initial_list_status = "f"
application_type = "INDIVIDUAL"
home_ownership = "MORTGAGE"
zip_code = "043 Manning Ville Suite 056 Lauraport, WA 22690"

term = float(term[0:2])
earliest_cr_line = float(earliest_cr_line[-4:])
zip_code = zip_code[-5:]

subgradeList = {'A2': 0, 'A3': 0, 'A4': 0, 'A5': 0, 'B1': 0, 'B2': 0, 'B3': 0, 'B4': 0, 'B5': 0,
              'C1': 0, 'C2': 0, 'C3': 0, 'C4': 0, 'C5': 0, 'D1': 0, 'D2': 0, 'D3': 0, 'D4': 0, 'D5': 0,
              'E1': 0, 'E2': 0, 'E3': 0, 'E4': 0, 'E5': 0, 'F1': 0, 'F2': 0, 'F3': 0, 'F4': 0, 'F5': 0,
              'G1': 0, 'G2': 0, 'G3': 0, 'G4': 0, 'G5': 0, 'G3': 0 }

if (sub_grade != "A1"):
  subgradeList[sub_grade] = 1

verification_statusList = {'Source Verified': 0, 'Verified': 0}

if (verification_status != "Not Verified"):
  verification_statusList[verification_status] = 1

purposeList = {'credit_card': 0, 'debt_consolidation': 0, 'educational': 0, 'home_improvement': 0, 'house': 0,
              'major_purchase': 0, 'medical': 0, 'moving': 0, 'other': 0, 'renewable_energy': 0, 'small_business': 0,
              'vacation': 0, 'wedding': 0}
if (purpose != "car"):
  purposeList[purpose] = 1

if (initial_list_status == "w"):
  initial_list_status_w = 1
else:
  initial_list_status_w = 0

application_typeList = {'INDIVIDUAL': 0, 'JOINT': 0}
if (application_type != "DIRECT_PAY"):
  application_typeList[application_type] = 1

home_ownershipList = {'OTHER': 0, 'OWN': 0, 'RENT': 0}
if (home_ownership != "MORTGAGE"):
  application_typeList[home_ownership] = 1

zip_codeList = {'05113': 0, '11650': 0, '22690': 0, '29597': 0, '30723': 0, '48052': 0, '70466': 0, '86630': 0, '93700': 0}
if (zip_code != "00813"):
  zip_codeList[zip_code] = 1

data = [loan_amnt, term, int_rate, installment, annual_inc, dti, earliest_cr_line, open_acc, pub_rec, revol_bal, revol_util,
        total_acc, mort_acc, pub_rec_bankruptcies]

for w in subgradeList.values():
  data.append(w)


for w in verification_statusList.values():
  data.append(w)


for w in purposeList.values():
  data.append(w)

data.append(initial_list_status_w)


for w in application_typeList.values():
  data.append(w)


for w in home_ownershipList.values():
  data.append(w)


for w in zip_codeList.values():
  data.append(w)


len(data)

import pickle
loadedScaler = pickle.load(open("./scaler.pkl", 'rb'))
data = loadedScaler.transform([data])

X_test[0]
model.predict([data])
model.predict(X_test)
